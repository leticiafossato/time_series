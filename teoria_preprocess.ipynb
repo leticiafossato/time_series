{
 "cells": [
  {
   "cell_type": "markdown",
   "metadata": {},
   "source": [
    "# Pré-processamento Série Temporal"
   ]
  },
  {
   "cell_type": "markdown",
   "metadata": {},
   "source": [
    "## 1. Remover os valores ausentes (se possível)\n",
    "\n",
    "Quando usar: Quando os valores ausentes são poucos e não impactam significativamente a análise.\n",
    "\n",
    "Como fazer: Você pode usar funções como dropna() para remover as linhas com valores ausentes."
   ]
  },
  {
   "cell_type": "code",
   "execution_count": null,
   "metadata": {},
   "outputs": [],
   "source": [
    "df.dropna(inplace=True)"
   ]
  },
  {
   "cell_type": "markdown",
   "metadata": {},
   "source": [
    "## 2. Interpolação\n",
    "\n",
    "Quando usar: Quando a série temporal é contínua e os valores nulos  podem ser estimados com base nos valores anteriores e posteriores.\n",
    "\n",
    "Como fazer: Usando o método interpolate(), é possível preencher os valores ausentes de forma linear ou com outros métodos.\n",
    "\n",
    "Outras opções de interpolação:\n",
    "\n",
    "method='time' para interpolação baseada em tempo.\n",
    "\n",
    "method='polynomial' para interpolação polinomial."
   ]
  },
  {
   "cell_type": "code",
   "execution_count": null,
   "metadata": {},
   "outputs": [],
   "source": [
    "df['coluna'].interpolate(method='linear', inplace=True)"
   ]
  },
  {
   "cell_type": "markdown",
   "metadata": {},
   "source": [
    "## 3. Preencher com o último valor conhecido (forward fill)\n",
    "\n",
    "Quando usar: Quando o valor ausente pode ser razoavelmente assumido como igual ao último valor disponível.\n",
    "\n",
    "Como fazer: Utilize o método ffill()."
   ]
  },
  {
   "cell_type": "code",
   "execution_count": null,
   "metadata": {},
   "outputs": [],
   "source": [
    "df.fillna(method='ffill', inplace=True)"
   ]
  },
  {
   "cell_type": "markdown",
   "metadata": {},
   "source": [
    "## 4. Preencher com o próximo valor (backward fill)\n",
    "\n",
    "Quando usar: Quando o valor ausente pode ser substituído pelo próximo valor disponível.\n",
    "\n",
    "Como fazer: Utilize o método bfill()."
   ]
  },
  {
   "cell_type": "code",
   "execution_count": null,
   "metadata": {},
   "outputs": [],
   "source": [
    "df.fillna(method='bfill', inplace=True)"
   ]
  },
  {
   "cell_type": "markdown",
   "metadata": {},
   "source": [
    "## 5. Preencher com uma média ou mediana\n",
    "\n",
    "Quando usar: Quando os valores ausentes são distribuídos aleatoriamente e podem ser representados por uma média ou mediana.\n",
    "\n",
    "Como fazer: Calcule a média ou mediana e use fillna() para preencher os valores."
   ]
  },
  {
   "cell_type": "code",
   "execution_count": null,
   "metadata": {},
   "outputs": [],
   "source": [
    "media = df['coluna'].mean()\n",
    "df['coluna'].fillna(media, inplace=True)"
   ]
  },
  {
   "cell_type": "markdown",
   "metadata": {},
   "source": [
    "## 6. Modelos de predição\n",
    "\n",
    "Quando usar: Quando os dados ausentes seguem um padrão mais complexo, você pode usar modelos de aprendizado de máquina para prever esses valores.\n",
    "\n",
    "Como fazer: Treine um modelo com as colunas que têm valores completos e preencha os ausentes com as previsões."
   ]
  },
  {
   "cell_type": "markdown",
   "metadata": {},
   "source": [
    "## 7. Marcar valores ausentes como uma categoria\n",
    "Quando usar: Se a ausência de dados em si é uma informação importante.\n",
    "\n",
    "\n",
    "Como fazer: Adicione uma nova categoria ou coluna indicando a ausência."
   ]
  },
  {
   "cell_type": "code",
   "execution_count": null,
   "metadata": {},
   "outputs": [],
   "source": [
    "df['coluna_na'] = df['coluna'].isna()"
   ]
  }
 ],
 "metadata": {
  "kernelspec": {
   "display_name": "env_leticia",
   "language": "python",
   "name": "python3"
  },
  "language_info": {
   "codemirror_mode": {
    "name": "ipython",
    "version": 3
   },
   "file_extension": ".py",
   "mimetype": "text/x-python",
   "name": "python",
   "nbconvert_exporter": "python",
   "pygments_lexer": "ipython3",
   "version": "3.7.2"
  }
 },
 "nbformat": 4,
 "nbformat_minor": 2
}
