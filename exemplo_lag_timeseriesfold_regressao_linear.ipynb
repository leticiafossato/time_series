{
 "cells": [
  {
   "cell_type": "code",
   "execution_count": 6,
   "metadata": {},
   "outputs": [],
   "source": [
    "import pandas as pd\n",
    "from sklearn.model_selection import TimeSeriesSplit\n",
    "from sklearn.linear_model import LinearRegression\n",
    "from sklearn.metrics import mean_absolute_error\n",
    "\n",
    "# Exemplo de dados\n",
    "data = {\n",
    "    'Dia': range(1, 31),\n",
    "    'Vendas': [200 + i*2 for i in range(30)]  # Exemplo de dados fictícios\n",
    "}\n",
    "df = pd.DataFrame(data)\n",
    "\n",
    "# Criação dos lags de semanas\n",
    "df['Lag_1_Week'] = df['Vendas'].shift(7)\n",
    "df['Lag_2_Weeks'] = df['Vendas'].shift(14)\n",
    "\n",
    "# Remover as linhas com valores NaN\n",
    "df = df.dropna()\n",
    "\n",
    "# Definir características e rótulo\n",
    "X = df[['Lag_1_Week', 'Lag_2_Weeks']]\n",
    "y=df['Vendas']"
   ]
  },
  {
   "cell_type": "code",
   "execution_count": 7,
   "metadata": {},
   "outputs": [
    {
     "name": "stdout",
     "output_type": "stream",
     "text": [
      "MAE Scores: [0.0, 0.0, 2.842170943040401e-14, 0.0, 0.0]\n",
      "Mean MAE: 5.684341886080802e-15\n"
     ]
    }
   ],
   "source": [
    "# Configurar TimeSeriesSplit\n",
    "tscv = TimeSeriesSplit(n_splits=5)  # Dividir em 5 conjuntos de treino/teste\n",
    "\n",
    "# Preparar listas para armazenar os resultados\n",
    "mae_scores = []\n",
    "\n",
    "for train_index, test_index in tscv.split(X):\n",
    "    X_train, X_test = X.iloc[train_index], X.iloc[test_index]\n",
    "    y_train, y_test = y.iloc[train_index], y.iloc[test_index]\n",
    "\n",
    "    # Criar e treinar o modelo\n",
    "    model = LinearRegression()\n",
    "    model.fit(X_train, y_train)\n",
    "\n",
    "    # Fazer previsões\n",
    "    y_pred = model.predict(X_test)\n",
    "\n",
    "    # Avaliar o modelo\n",
    "    mae = mean_absolute_error(y_test, y_pred)\n",
    "    mae_scores.append(mae)\n",
    "\n",
    "# Mostrar resultados\n",
    "print(f\"MAE Scores: {mae_scores}\")\n",
    "print(f\"Mean MAE: {sum(mae_scores) / len(mae_scores)}\")"
   ]
  },
  {
   "cell_type": "code",
   "execution_count": null,
   "metadata": {},
   "outputs": [],
   "source": []
  }
 ],
 "metadata": {
  "kernelspec": {
   "display_name": "env_leticia",
   "language": "python",
   "name": "python3"
  },
  "language_info": {
   "codemirror_mode": {
    "name": "ipython",
    "version": 3
   },
   "file_extension": ".py",
   "mimetype": "text/x-python",
   "name": "python",
   "nbconvert_exporter": "python",
   "pygments_lexer": "ipython3",
   "version": "3.7.2"
  }
 },
 "nbformat": 4,
 "nbformat_minor": 2
}
